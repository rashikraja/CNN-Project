{
  "nbformat": 4,
  "nbformat_minor": 0,
  "metadata": {
    "colab": {
      "provenance": []
    },
    "kernelspec": {
      "name": "python3",
      "display_name": "Python 3"
    },
    "language_info": {
      "name": "python"
    }
  },
  "cells": [
    {
      "cell_type": "code",
      "execution_count": 20,
      "metadata": {
        "id": "FhD6iETieAhm"
      },
      "outputs": [],
      "source": [
        "import numpy as np\n",
        "import os\n",
        "import tensorflow as tf\n",
        "from tensorflow.keras.preprocessing.image import ImageDataGenerator\n",
        "from tensorflow.keras.applications import ResNet50\n",
        "from tensorflow.keras import layers, models\n",
        "\n",
        "# Paths\n",
        "train_dir = '/content/drive/MyDrive/Colab Notebooks/CNN/Shoe Classification/train'  # Path to train folder\n",
        "test_dir = '/content/drive/MyDrive/Colab Notebooks/CNN/Shoe Classification/test'    # Path to test folder\n",
        "\n"
      ]
    },
    {
      "cell_type": "code",
      "source": [
        "# Debug: Check directory structure\n",
        "print(\"Train Directory Structure:\")\n",
        "for root, dirs, files in os.walk(train_dir):\n",
        "    print(f\"Root: {root}, Subfolders: {dirs}, Files: {len(files)}\")\n",
        "    if len(files) == 0:\n",
        "        print(f\"Warning: No files in folder {root}\")\n",
        "\n",
        "print(\"Test Directory Content:\")\n",
        "for root, dirs, files in os.walk(test_dir):\n",
        "    print(f\"Root: {root}, Subfolders: {dirs}, Files: {len(files)}\")\n",
        "    if len(files) == 0:\n",
        "        print(f\"Warning: No files in folder {root}\")"
      ],
      "metadata": {
        "colab": {
          "base_uri": "https://localhost:8080/"
        },
        "id": "-CWrfaFNi4QJ",
        "outputId": "efc6707a-364a-4804-8839-0a9c7647afc1"
      },
      "execution_count": 21,
      "outputs": [
        {
          "output_type": "stream",
          "name": "stdout",
          "text": [
            "Train Directory Structure:\n",
            "Root: /content/drive/MyDrive/Colab Notebooks/CNN/Shoe Classification/train, Subfolders: ['Boots', 'Slippers', 'Sandals'], Files: 0\n",
            "Warning: No files in folder /content/drive/MyDrive/Colab Notebooks/CNN/Shoe Classification/train\n",
            "Root: /content/drive/MyDrive/Colab Notebooks/CNN/Shoe Classification/train/Boots, Subfolders: [], Files: 326\n",
            "Root: /content/drive/MyDrive/Colab Notebooks/CNN/Shoe Classification/train/Slippers, Subfolders: [], Files: 146\n",
            "Root: /content/drive/MyDrive/Colab Notebooks/CNN/Shoe Classification/train/Sandals, Subfolders: [], Files: 306\n",
            "Test Directory Content:\n",
            "Root: /content/drive/MyDrive/Colab Notebooks/CNN/Shoe Classification/test, Subfolders: [], Files: 89\n"
          ]
        }
      ]
    },
    {
      "cell_type": "code",
      "source": [
        "# Parameters\n",
        "IMG_SIZE = (224, 224)\n",
        "BATCH_SIZE = 32\n",
        "NUM_CLASSES = 3\n",
        "\n",
        "# Data Generators\n",
        "train_datagen = ImageDataGenerator(\n",
        "    rescale=1./255,\n",
        "    validation_split=0.2,  # 20% for validation\n",
        "    horizontal_flip=True,\n",
        "    rotation_range=15,\n",
        "    zoom_range=0.2\n",
        ")"
      ],
      "metadata": {
        "id": "3AZh9Z2shxAZ"
      },
      "execution_count": 22,
      "outputs": []
    },
    {
      "cell_type": "code",
      "source": [
        "# Training and Validation Generators\n",
        "train_gen = train_datagen.flow_from_directory(\n",
        "    train_dir,\n",
        "    target_size=IMG_SIZE,\n",
        "    batch_size=BATCH_SIZE,\n",
        "    class_mode='categorical',\n",
        "    subset='training'\n",
        ")"
      ],
      "metadata": {
        "colab": {
          "base_uri": "https://localhost:8080/"
        },
        "id": "n_3YrAYShzDe",
        "outputId": "0d55d992-f817-41f7-b560-b44cde5e51c0"
      },
      "execution_count": 23,
      "outputs": [
        {
          "output_type": "stream",
          "name": "stdout",
          "text": [
            "Found 623 images belonging to 3 classes.\n"
          ]
        }
      ]
    },
    {
      "cell_type": "code",
      "source": [
        "val_gen = train_datagen.flow_from_directory(\n",
        "    train_dir,\n",
        "    target_size=IMG_SIZE,\n",
        "    batch_size=BATCH_SIZE,\n",
        "    class_mode='categorical',\n",
        "    subset='validation'\n",
        ")\n"
      ],
      "metadata": {
        "colab": {
          "base_uri": "https://localhost:8080/"
        },
        "id": "GRS5kkmphygn",
        "outputId": "52a3d0e2-33e8-4614-a8d1-5715d1698989"
      },
      "execution_count": 24,
      "outputs": [
        {
          "output_type": "stream",
          "name": "stdout",
          "text": [
            "Found 155 images belonging to 3 classes.\n"
          ]
        }
      ]
    },
    {
      "cell_type": "code",
      "source": [
        "# Test Generator (no labels, shuffle=False to maintain file order)\n",
        "test_datagen = ImageDataGenerator(rescale=1./255)\n",
        "test_gen = test_datagen.flow_from_directory(\n",
        "    test_dir,\n",
        "    target_size=IMG_SIZE,\n",
        "    batch_size=1,\n",
        "    class_mode=None,\n",
        "    shuffle=False,\n",
        "    classes=['class1', 'class2', 'class3']\n",
        ")"
      ],
      "metadata": {
        "colab": {
          "base_uri": "https://localhost:8080/"
        },
        "id": "Ta_fDpg0hyVh",
        "outputId": "a7221d57-04a5-42f3-d3e8-11e3db7a997f"
      },
      "execution_count": 25,
      "outputs": [
        {
          "output_type": "stream",
          "name": "stdout",
          "text": [
            "Found 0 images belonging to 3 classes.\n"
          ]
        }
      ]
    },
    {
      "cell_type": "code",
      "source": [
        "# Pretrained Model (Transfer Learning)\n",
        "base_model = ResNet50(weights='imagenet', include_top=False, input_shape=(224, 224, 3))\n",
        "base_model.trainable = False  # Freeze the base model layers\n",
        "\n",
        "# Custom Model Head\n",
        "model = models.Sequential([\n",
        "    base_model,\n",
        "    layers.GlobalAveragePooling2D(),\n",
        "    layers.Dense(256, activation='relu'),\n",
        "    layers.Dropout(0.5),\n",
        "    layers.Dense(NUM_CLASSES, activation='softmax')  # Output for 3 categories\n",
        "])"
      ],
      "metadata": {
        "id": "67l4j81XhyQR"
      },
      "execution_count": 26,
      "outputs": []
    },
    {
      "cell_type": "code",
      "source": [
        "# Compile the Model\n",
        "model.compile(\n",
        "    optimizer=tf.keras.optimizers.Adam(),\n",
        "    loss='categorical_crossentropy',\n",
        "    metrics=['accuracy']\n",
        ")\n",
        "\n",
        "# Train the Model\n",
        "history = model.fit(\n",
        "    train_gen,\n",
        "    validation_data=val_gen,\n",
        "    epochs=10,\n",
        "    steps_per_epoch=train_gen.samples // BATCH_SIZE,\n",
        "    validation_steps=val_gen.samples // BATCH_SIZE\n",
        ")"
      ],
      "metadata": {
        "colab": {
          "base_uri": "https://localhost:8080/"
        },
        "id": "q0P9d8_VhyDK",
        "outputId": "52f7854c-8f9b-4ae5-85bf-7914efed0f04"
      },
      "execution_count": 27,
      "outputs": [
        {
          "output_type": "stream",
          "name": "stdout",
          "text": [
            "Epoch 1/10\n"
          ]
        },
        {
          "output_type": "stream",
          "name": "stderr",
          "text": [
            "/usr/local/lib/python3.10/dist-packages/keras/src/trainers/data_adapters/py_dataset_adapter.py:122: UserWarning: Your `PyDataset` class should call `super().__init__(**kwargs)` in its constructor. `**kwargs` can include `workers`, `use_multiprocessing`, `max_queue_size`. Do not pass these arguments to `fit()`, as they will be ignored.\n",
            "  self._warn_if_super_not_called()\n"
          ]
        },
        {
          "output_type": "stream",
          "name": "stdout",
          "text": [
            "\u001b[1m19/19\u001b[0m \u001b[32m━━━━━━━━━━━━━━━━━━━━\u001b[0m\u001b[37m\u001b[0m \u001b[1m162s\u001b[0m 8s/step - accuracy: 0.4279 - loss: 1.3258 - val_accuracy: 0.4844 - val_loss: 0.9553\n",
            "Epoch 2/10\n",
            "\u001b[1m19/19\u001b[0m \u001b[32m━━━━━━━━━━━━━━━━━━━━\u001b[0m\u001b[37m\u001b[0m \u001b[1m14s\u001b[0m 474ms/step - accuracy: 0.5312 - loss: 1.0713 - val_accuracy: 0.5556 - val_loss: 0.8521\n",
            "Epoch 3/10\n",
            "\u001b[1m19/19\u001b[0m \u001b[32m━━━━━━━━━━━━━━━━━━━━\u001b[0m\u001b[37m\u001b[0m \u001b[1m148s\u001b[0m 8s/step - accuracy: 0.5560 - loss: 0.8933 - val_accuracy: 0.6172 - val_loss: 0.8417\n",
            "Epoch 4/10\n",
            "\u001b[1m19/19\u001b[0m \u001b[32m━━━━━━━━━━━━━━━━━━━━\u001b[0m\u001b[37m\u001b[0m \u001b[1m12s\u001b[0m 347ms/step - accuracy: 0.6562 - loss: 0.8374 - val_accuracy: 0.6667 - val_loss: 0.7750\n",
            "Epoch 5/10\n",
            "\u001b[1m19/19\u001b[0m \u001b[32m━━━━━━━━━━━━━━━━━━━━\u001b[0m\u001b[37m\u001b[0m \u001b[1m147s\u001b[0m 8s/step - accuracy: 0.6667 - loss: 0.7809 - val_accuracy: 0.6328 - val_loss: 0.7568\n",
            "Epoch 6/10\n",
            "\u001b[1m19/19\u001b[0m \u001b[32m━━━━━━━━━━━━━━━━━━━━\u001b[0m\u001b[37m\u001b[0m \u001b[1m12s\u001b[0m 324ms/step - accuracy: 0.7188 - loss: 0.6849 - val_accuracy: 0.7037 - val_loss: 0.7020\n",
            "Epoch 7/10\n",
            "\u001b[1m19/19\u001b[0m \u001b[32m━━━━━━━━━━━━━━━━━━━━\u001b[0m\u001b[37m\u001b[0m \u001b[1m189s\u001b[0m 8s/step - accuracy: 0.6621 - loss: 0.7362 - val_accuracy: 0.6328 - val_loss: 0.7685\n",
            "Epoch 8/10\n",
            "\u001b[1m19/19\u001b[0m \u001b[32m━━━━━━━━━━━━━━━━━━━━\u001b[0m\u001b[37m\u001b[0m \u001b[1m16s\u001b[0m 492ms/step - accuracy: 0.5938 - loss: 0.7569 - val_accuracy: 0.7037 - val_loss: 0.6306\n",
            "Epoch 9/10\n",
            "\u001b[1m19/19\u001b[0m \u001b[32m━━━━━━━━━━━━━━━━━━━━\u001b[0m\u001b[37m\u001b[0m \u001b[1m147s\u001b[0m 8s/step - accuracy: 0.7175 - loss: 0.6719 - val_accuracy: 0.6719 - val_loss: 0.7307\n",
            "Epoch 10/10\n",
            "\u001b[1m19/19\u001b[0m \u001b[32m━━━━━━━━━━━━━━━━━━━━\u001b[0m\u001b[37m\u001b[0m \u001b[1m14s\u001b[0m 503ms/step - accuracy: 0.7500 - loss: 0.5961 - val_accuracy: 0.7407 - val_loss: 0.4941\n"
          ]
        }
      ]
    },
    {
      "cell_type": "code",
      "source": [
        "# Evaluate on Validation Data\n",
        "val_loss, val_accuracy = model.evaluate(val_gen)\n",
        "print(f\"Validation Accuracy: {val_accuracy * 100:.2f}%\")\n"
      ],
      "metadata": {
        "colab": {
          "base_uri": "https://localhost:8080/"
        },
        "id": "50fQU0Yohx2Y",
        "outputId": "890ae857-be26-4dfb-c833-84d85dd6d3bd"
      },
      "execution_count": 28,
      "outputs": [
        {
          "output_type": "stream",
          "name": "stdout",
          "text": [
            "\u001b[1m5/5\u001b[0m \u001b[32m━━━━━━━━━━━━━━━━━━━━\u001b[0m\u001b[37m\u001b[0m \u001b[1m32s\u001b[0m 6s/step - accuracy: 0.6131 - loss: 0.7469\n",
            "Validation Accuracy: 63.87%\n"
          ]
        }
      ]
    },
    {
      "cell_type": "code",
      "source": [
        "# Predict Labels for Test Data\n",
        "test_gen.reset()  # Ensure generator starts from the beginning\n",
        "predictions = model.predict(val_gen, verbose=1)\n",
        "predicted_labels = np.argmax(predictions, axis=1)\n"
      ],
      "metadata": {
        "colab": {
          "base_uri": "https://localhost:8080/"
        },
        "id": "mlc4h_0Ahxnz",
        "outputId": "22a6ac11-c3c5-4ee0-bc94-acf39882cde0"
      },
      "execution_count": 30,
      "outputs": [
        {
          "output_type": "stream",
          "name": "stdout",
          "text": [
            "\u001b[1m5/5\u001b[0m \u001b[32m━━━━━━━━━━━━━━━━━━━━\u001b[0m\u001b[37m\u001b[0m \u001b[1m35s\u001b[0m 6s/step\n"
          ]
        }
      ]
    },
    {
      "cell_type": "code",
      "source": [
        "# Map Predictions to Class Labels\n",
        "class_indices = train_gen.class_indices\n",
        "class_labels = {v: k for k, v in class_indices.items()}  # Reverse the dictionary\n",
        "predicted_classes = [class_labels[label] for label in predicted_labels]"
      ],
      "metadata": {
        "id": "E1q_1IQkjCKJ"
      },
      "execution_count": 31,
      "outputs": []
    },
    {
      "cell_type": "code",
      "source": [
        "# Display Predictions\n",
        "for i, filename in enumerate(test_gen.filenames):\n",
        "    print(f\"Filename: {filename}, Predicted Label: {predicted_classes[i]}\")"
      ],
      "metadata": {
        "id": "1FmdWQ0jjB_E"
      },
      "execution_count": 32,
      "outputs": []
    }
  ]
}